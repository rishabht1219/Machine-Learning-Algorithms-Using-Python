{
 "cells": [
  {
   "cell_type": "code",
   "execution_count": 114,
   "metadata": {
    "colab": {
     "base_uri": "https://localhost:8080/",
     "height": 36
    },
    "colab_type": "code",
    "id": "leLScGAUk1Hc",
    "outputId": "ae155470-5593-440d-970e-c54b1f200716"
   },
   "outputs": [
    {
     "data": {
      "text/plain": [
       "['malignant', 'benign']"
      ]
     },
     "execution_count": 114,
     "metadata": {},
     "output_type": "execute_result"
    }
   ],
   "source": [
    "from sklearn.datasets import load_breast_cancer\n",
    "import numpy as np\n",
    "import random\n",
    "\n",
    "data = load_breast_cancer()\n",
    "data.target[[10, 50, 85]]\n",
    "\n",
    "list(data.target_names)\n"
   ]
  },
  {
   "cell_type": "code",
   "execution_count": 115,
   "metadata": {
    "colab": {},
    "colab_type": "code",
    "id": "09ztzExPk3rd"
   },
   "outputs": [],
   "source": [
    "X = data.data\n",
    "y = data.target\n",
    "full_data = np.concatenate([X, y.reshape(-1, 1)], axis=1)\n",
    "\n",
    "header = list(data.feature_names) + ['labels']"
   ]
  },
  {
   "cell_type": "code",
   "execution_count": 116,
   "metadata": {
    "colab": {},
    "colab_type": "code",
    "id": "PlQA5kvQklMa"
   },
   "outputs": [],
   "source": [
    "test_data = full_data[400:]\n",
    "training_data = full_data[:400]"
   ]
  },
  {
   "cell_type": "code",
   "execution_count": 117,
   "metadata": {
    "colab": {},
    "colab_type": "code",
    "id": "iRyn5B_nbqXM"
   },
   "outputs": [],
   "source": [
    "def unique_vals(rows, col):\n",
    "    return set([row[col] for row in rows])"
   ]
  },
  {
   "cell_type": "code",
   "execution_count": 118,
   "metadata": {
    "colab": {},
    "colab_type": "code",
    "id": "Z7SkuKb9boPn"
   },
   "outputs": [],
   "source": [
    "def class_counts(rows):\n",
    "    counts = {}  # a dictionary of label -> count.\n",
    "    for row in rows:\n",
    "        # in our dataset format, the label is always the last column\n",
    "        label = row[-1]\n",
    "        if label in counts:\n",
    "            counts[label] += 1\n",
    "        else:\n",
    "            counts[label] = 1\n",
    "    return counts"
   ]
  },
  {
   "cell_type": "code",
   "execution_count": 119,
   "metadata": {
    "colab": {
     "base_uri": "https://localhost:8080/",
     "height": 36
    },
    "colab_type": "code",
    "id": "Pyo5MJBtgJo1",
    "outputId": "a01162e9-1886-4b90-eeff-d1e3b7398053"
   },
   "outputs": [
    {
     "data": {
      "text/plain": [
       "{0.0: 173, 1.0: 227}"
      ]
     },
     "execution_count": 119,
     "metadata": {},
     "output_type": "execute_result"
    }
   ],
   "source": [
    "class_counts(training_data)"
   ]
  },
  {
   "cell_type": "code",
   "execution_count": 120,
   "metadata": {
    "colab": {},
    "colab_type": "code",
    "id": "TaBsVfj0bk8g"
   },
   "outputs": [],
   "source": [
    "def is_numeric(value):\n",
    "    return isinstance(value, int) or isinstance(value, float)"
   ]
  },
  {
   "cell_type": "code",
   "execution_count": 121,
   "metadata": {
    "colab": {},
    "colab_type": "code",
    "id": "aRxSUu_Kbh16"
   },
   "outputs": [],
   "source": [
    "class Question:\n",
    "    def __init__(self, column, value):\n",
    "        self.column = column\n",
    "        self.value = value\n",
    "\n",
    "    def match(self, example):\n",
    "        val = example[self.column]\n",
    "        if is_numeric(val):\n",
    "            return val >= self.value\n",
    "        else:\n",
    "            return val == self.value\n",
    "\n",
    "    def __repr__(self):\n",
    "        condition = \"==\"\n",
    "        if is_numeric(self.value):\n",
    "            condition = \">=\"\n",
    "        return \"Is %s %s %s?\" % (\n",
    "            header[self.column], condition, str(self.value))"
   ]
  },
  {
   "cell_type": "code",
   "execution_count": 122,
   "metadata": {
    "colab": {},
    "colab_type": "code",
    "id": "AWr9GG_YbdVk"
   },
   "outputs": [],
   "source": [
    "def partition(rows, question):\n",
    "    true_rows, false_rows = [], []\n",
    "    for row in rows:\n",
    "        if question.match(row):\n",
    "            true_rows.append(row)\n",
    "        else:\n",
    "            false_rows.append(row)\n",
    "    \n",
    "    return true_rows, false_rows"
   ]
  },
  {
   "cell_type": "code",
   "execution_count": 123,
   "metadata": {
    "colab": {},
    "colab_type": "code",
    "id": "53gjCyFVbV-F"
   },
   "outputs": [],
   "source": [
    "def gini(rows):\n",
    "    counts = class_counts(rows)\n",
    "    impurity = 1\n",
    "    \n",
    "    for label in counts:\n",
    "        prob = counts[label] / len(rows)\n",
    "        impurity -= prob**2\n",
    "        \n",
    "    return impurity"
   ]
  },
  {
   "cell_type": "markdown",
   "metadata": {
    "colab_type": "text",
    "id": "BJn7ICvzhuOx"
   },
   "source": [
    "$G = 1 - \\sum\\limits_k (p_k)^2$"
   ]
  },
  {
   "cell_type": "code",
   "execution_count": 124,
   "metadata": {
    "colab": {
     "base_uri": "https://localhost:8080/",
     "height": 36
    },
    "colab_type": "code",
    "id": "RxuKdhBeaKJt",
    "outputId": "9299982f-7a25-4605-e5d3-09373a391bd0"
   },
   "outputs": [
    {
     "data": {
      "text/plain": [
       "0.4444444444444444"
      ]
     },
     "execution_count": 124,
     "metadata": {},
     "output_type": "execute_result"
    }
   ],
   "source": [
    "some_mixing = [[0],\n",
    "               [1], \n",
    "               [1]]\n",
    "               \n",
    "gini(some_mixing)"
   ]
  },
  {
   "cell_type": "code",
   "execution_count": 125,
   "metadata": {
    "colab": {},
    "colab_type": "code",
    "id": "iFGCD6pXbN7l"
   },
   "outputs": [],
   "source": [
    "def info_gain(left, right, current_uncertainty):\n",
    "    info_gain = current_uncertainty\n",
    "  \n",
    "    left_uncertainty = gini(left)\n",
    "    right_uncertainty = gini(right)\n",
    "    \n",
    "    info_gain -= len(left)/(len(left) + len(right)) * left_uncertainty\n",
    "    info_gain -= len(right)/(len(left) + len(right)) * right_uncertainty\n",
    "    \n",
    "    return info_gain"
   ]
  },
  {
   "cell_type": "markdown",
   "metadata": {
    "colab_type": "text",
    "id": "fAFki1ygh6Xe"
   },
   "source": [
    "$\\Large IG(Q) = S_O - \\sum_{i=1}^{q}\\frac{N_i}{N}S_i$"
   ]
  },
  {
   "cell_type": "code",
   "execution_count": 126,
   "metadata": {
    "colab": {},
    "colab_type": "code",
    "id": "Ik3BkwVSa8VO"
   },
   "outputs": [],
   "source": [
    "def find_best_split(rows):\n",
    "    best_gain = 0  \n",
    "    best_question = None  \n",
    "    current_uncertainty = gini(rows)\n",
    "    n_features = len(rows[0]) - 1  \n",
    "\n",
    "    for col in range(n_features):  \n",
    "        values = set([row[col] for row in rows]) \n",
    "        \n",
    "        for val in values:  \n",
    "            question = Question(col, val)\n",
    "            true_rows, false_rows = partition(rows, question)\n",
    "\n",
    "            if len(true_rows) == 0 or len(false_rows) == 0:\n",
    "                continue\n",
    "\n",
    "            gain = info_gain(false_rows, true_rows, current_uncertainty)\n",
    "\n",
    "            if gain >= best_gain:\n",
    "                best_gain, best_question = gain, question\n",
    "\n",
    "    return best_gain, best_question"
   ]
  },
  {
   "cell_type": "code",
   "execution_count": 127,
   "metadata": {
    "colab": {},
    "colab_type": "code",
    "id": "YSqS8uZta0FB"
   },
   "outputs": [],
   "source": [
    "class Leaf:\n",
    "    def __init__(self, rows):\n",
    "        self.predictions = class_counts(rows)"
   ]
  },
  {
   "cell_type": "code",
   "execution_count": 128,
   "metadata": {
    "colab": {},
    "colab_type": "code",
    "id": "IJ8snhQRk3uX"
   },
   "outputs": [],
   "source": [
    "class Decision_Node:\n",
    "    def __init__(self,\n",
    "                 question,\n",
    "                 true_branch,\n",
    "                 false_branch):\n",
    "        self.question = question\n",
    "        self.true_branch = true_branch\n",
    "        self.false_branch = false_branch"
   ]
  },
  {
   "cell_type": "code",
   "execution_count": 129,
   "metadata": {
    "colab": {},
    "colab_type": "code",
    "id": "3vhgarugk3w_"
   },
   "outputs": [],
   "source": [
    "def build_tree(rows):\n",
    "    gain, question = find_best_split(rows)\n",
    "\n",
    "    if gain == 0:\n",
    "        return Leaf(rows)\n",
    "\n",
    "    true_rows, false_rows = partition(rows, question)\n",
    "    true_branch = build_tree(true_rows)\n",
    "    false_branch = build_tree(false_rows)\n",
    "\n",
    "    return Decision_Node(question, true_branch, false_branch)"
   ]
  },
  {
   "cell_type": "code",
   "execution_count": 130,
   "metadata": {
    "colab": {},
    "colab_type": "code",
    "id": "i9Do3xOwcP1x"
   },
   "outputs": [],
   "source": [
    "def classify(row, node):\n",
    "\n",
    "    if isinstance(node, Leaf):\n",
    "        return node.predictions\n",
    "\n",
    "    if node.question.match(row):\n",
    "        return classify(row, node.true_branch)\n",
    "    else:\n",
    "        return classify(row, node.false_branch)"
   ]
  },
  {
   "cell_type": "code",
   "execution_count": 131,
   "metadata": {
    "colab": {},
    "colab_type": "code",
    "id": "8colGoZVkMrR"
   },
   "outputs": [],
   "source": [
    "def print_leaf(counts):\n",
    "    total = sum(counts.values()) * 1.0\n",
    "    probs = {}\n",
    "    for lbl in counts.keys():\n",
    "        probs[lbl] = str(int(counts[lbl] / total * 100)) + \"%\"\n",
    "    return probs"
   ]
  },
  {
   "cell_type": "code",
   "execution_count": 132,
   "metadata": {
    "colab": {},
    "colab_type": "code",
    "id": "lgIp6JSlmplU"
   },
   "outputs": [],
   "source": [
    "def predict(test, my_tree):\n",
    "  result = []\n",
    "  for row in test:\n",
    "    result.append(list(print_leaf(classify(row, my_tree)).keys())[0])\n",
    "\n",
    "  return result"
   ]
  },
  {
   "cell_type": "code",
   "execution_count": 133,
   "metadata": {
    "colab": {},
    "colab_type": "code",
    "id": "JDrg386Gn0kt"
   },
   "outputs": [],
   "source": [
    "def bagging(data, test, k=2):\n",
    "  pred = []\n",
    "  first = np.where(data[:,-1] == 1)[0]\n",
    "  second = np.where(data[:,-1] == 0)[0]\n",
    "\n",
    "  for i in range(k):\n",
    "    low_f = random.randint(0, first.shape[0] - 100)\n",
    "    high_f = random.randint(100, first.shape[0])\n",
    "\n",
    "    low_s = random.randint(0, second.shape[0] - 100)\n",
    "    high_s = random.randint(100, second.shape[0])\n",
    "\n",
    "    split_data = np.concatenate([data[low_f:high_f], data[low_s:high_s]], axis=0)\n",
    "    my_tree = build_tree(split_data)\n",
    "\n",
    "    pred.append(predict(test, my_tree))\n",
    "\n",
    "  return np.mean(pred, axis=0) \n",
    "\n"
   ]
  },
  {
   "cell_type": "code",
   "execution_count": 134,
   "metadata": {
    "colab": {},
    "colab_type": "code",
    "id": "ka9AJ0-CqhIU"
   },
   "outputs": [],
   "source": [
    "res = bagging(training_data, test_data)"
   ]
  },
  {
   "cell_type": "code",
   "execution_count": 135,
   "metadata": {
    "colab": {},
    "colab_type": "code",
    "id": "tthhadiRx2Cc"
   },
   "outputs": [],
   "source": [
    "from sklearn.metrics import roc_auc_score"
   ]
  },
  {
   "cell_type": "code",
   "execution_count": 136,
   "metadata": {
    "colab": {
     "base_uri": "https://localhost:8080/",
     "height": 36
    },
    "colab_type": "code",
    "id": "MXjRiSUBqhT-",
    "outputId": "c9e72215-2df7-4c40-9b7e-b977b0a6dfc7"
   },
   "outputs": [
    {
     "data": {
      "text/plain": [
       "0.9101577909270216"
      ]
     },
     "execution_count": 136,
     "metadata": {},
     "output_type": "execute_result"
    }
   ],
   "source": [
    "roc_auc_score(test_data[:, -1], res)"
   ]
  },
  {
   "cell_type": "code",
   "execution_count": 137,
   "metadata": {
    "colab": {},
    "colab_type": "code",
    "id": "9KZoWRgwk4E_"
   },
   "outputs": [],
   "source": [
    "my_tree = build_tree(training_data)"
   ]
  },
  {
   "cell_type": "code",
   "execution_count": 138,
   "metadata": {
    "colab": {},
    "colab_type": "code",
    "id": "nfiwVyw-npOI"
   },
   "outputs": [],
   "source": [
    "pred_tree = predict(test_data, my_tree)"
   ]
  },
  {
   "cell_type": "code",
   "execution_count": 139,
   "metadata": {
    "colab": {
     "base_uri": "https://localhost:8080/",
     "height": 36
    },
    "colab_type": "code",
    "id": "PH36W3K5npSn",
    "outputId": "d4d7ce6d-e22f-48be-e609-ed24556d9f68"
   },
   "outputs": [
    {
     "data": {
      "text/plain": [
       "0.9153846153846154"
      ]
     },
     "execution_count": 139,
     "metadata": {},
     "output_type": "execute_result"
    }
   ],
   "source": [
    "roc_auc_score(test_data[:, -1], pred_tree)"
   ]
  },
  {
   "cell_type": "code",
   "execution_count": 140,
   "metadata": {
    "colab": {},
    "colab_type": "code",
    "id": "gZA-TP6dk4H9"
   },
   "outputs": [],
   "source": [
    "def print_tree(node, spacing=\"\"):\n",
    "\n",
    "\n",
    "    if isinstance(node, Leaf):\n",
    "        print (spacing + \"Predict\", node.predictions)\n",
    "        return\n",
    "\n",
    "    print (spacing + str(node.question))\n",
    "\n",
    "    print (spacing + '--> True:')\n",
    "    print_tree(node.true_branch, spacing + \"  \")\n",
    "\n",
    "    print (spacing + '--> False:')\n",
    "    print_tree(node.false_branch, spacing + \"  \")"
   ]
  },
  {
   "cell_type": "code",
   "execution_count": 141,
   "metadata": {
    "colab": {},
    "colab_type": "code",
    "id": "ASKoaqUuk4LJ"
   },
   "outputs": [
    {
     "name": "stdout",
     "output_type": "stream",
     "text": [
      "Is worst perimeter >= 105.3?\n",
      "--> True:\n",
      "  Is worst concavity >= 0.221?\n",
      "  --> True:\n",
      "    Is mean smoothness >= 0.08401?\n",
      "    --> True:\n",
      "      Is mean texture >= 16.67?\n",
      "      --> True:\n",
      "        Predict {0.0: 138}\n",
      "      --> False:\n",
      "        Is worst area >= 812.4?\n",
      "        --> True:\n",
      "          Is mean concave points >= 0.05069?\n",
      "          --> True:\n",
      "            Predict {0.0: 12}\n",
      "          --> False:\n",
      "            Predict {1.0: 1}\n",
      "        --> False:\n",
      "          Predict {1.0: 2}\n",
      "    --> False:\n",
      "      Is worst fractal dimension >= 0.07474?\n",
      "      --> True:\n",
      "        Predict {1.0: 4}\n",
      "      --> False:\n",
      "        Predict {0.0: 5}\n",
      "  --> False:\n",
      "    Is worst area >= 1150.0?\n",
      "    --> True:\n",
      "      Predict {0.0: 4}\n",
      "    --> False:\n",
      "      Predict {1.0: 9}\n",
      "--> False:\n",
      "  Is worst smoothness >= 0.1785?\n",
      "  --> True:\n",
      "    Predict {0.0: 7}\n",
      "  --> False:\n",
      "    Is worst fractal dimension >= 0.05521?\n",
      "    --> True:\n",
      "      Is worst symmetry >= 0.5774?\n",
      "      --> True:\n",
      "        Predict {0.0: 1}\n",
      "      --> False:\n",
      "        Is worst area >= 750.1?\n",
      "        --> True:\n",
      "          Is worst concave points >= 0.1112?\n",
      "          --> True:\n",
      "            Predict {0.0: 3}\n",
      "          --> False:\n",
      "            Predict {1.0: 8}\n",
      "        --> False:\n",
      "          Is area error >= 49.11?\n",
      "          --> True:\n",
      "            Is worst symmetry >= 0.2179?\n",
      "            --> True:\n",
      "              Predict {1.0: 2}\n",
      "            --> False:\n",
      "              Predict {0.0: 1}\n",
      "          --> False:\n",
      "            Is worst texture >= 33.37?\n",
      "            --> True:\n",
      "              Is worst concave points >= 0.09331?\n",
      "              --> True:\n",
      "                Predict {0.0: 1}\n",
      "              --> False:\n",
      "                Predict {1.0: 4}\n",
      "            --> False:\n",
      "              Predict {1.0: 197}\n",
      "    --> False:\n",
      "      Predict {0.0: 1}\n"
     ]
    }
   ],
   "source": [
    "print_tree(my_tree)"
   ]
  }
 ],
 "metadata": {
  "colab": {
   "collapsed_sections": [],
   "name": "ML_lab6.ipynb",
   "provenance": []
  },
  "kernelspec": {
   "display_name": "Python 3",
   "language": "python",
   "name": "python3"
  },
  "language_info": {
   "codemirror_mode": {
    "name": "ipython",
    "version": 3
   },
   "file_extension": ".py",
   "mimetype": "text/x-python",
   "name": "python",
   "nbconvert_exporter": "python",
   "pygments_lexer": "ipython3",
   "version": "3.7.3"
  }
 },
 "nbformat": 4,
 "nbformat_minor": 1
}
